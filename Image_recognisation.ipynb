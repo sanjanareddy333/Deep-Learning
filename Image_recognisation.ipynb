{
 "cells": [
  {
   "cell_type": "code",
   "execution_count": 17,
   "id": "9b87e5ab-4383-4882-b759-9d35200e998f",
   "metadata": {},
   "outputs": [],
   "source": [
    "import torch\n",
    "import torch.nn as nn\n",
    "import torch.optim as optim\n",
    "import torchvision\n",
    "import torchvision.transforms as transforms\n",
    "from torch.utils.data import DataLoader"
   ]
  },
  {
   "cell_type": "code",
   "execution_count": 18,
   "id": "5f6dd110-0c30-40fe-8fe1-d0e780e76276",
   "metadata": {},
   "outputs": [],
   "source": [
    "training_dataset_path = \"./monkey_images/training\"\n",
    "test_dataset_path = \"./monkey_images/validation\""
   ]
  },
  {
   "cell_type": "code",
   "execution_count": 19,
   "id": "79de4a75-0a9b-4c75-b038-ca8f6aaffb68",
   "metadata": {},
   "outputs": [],
   "source": [
    "initial_transform = transforms.Compose([\n",
    "    transforms.Resize((224, 224)),\n",
    "    transforms.ToTensor()\n",
    "])"
   ]
  },
  {
   "cell_type": "code",
   "execution_count": 20,
   "id": "7efcc5d5-f78a-4c71-a728-30f3fd9bbe46",
   "metadata": {},
   "outputs": [],
   "source": [
    "initial_dataset = torchvision.datasets.ImageFolder(root=training_dataset_path, transform=initial_transform)\n",
    "initial_loader = torch.utils.data.DataLoader(dataset=initial_dataset, batch_size=32, shuffle=False)\n"
   ]
  },
  {
   "cell_type": "code",
   "execution_count": 21,
   "id": "486bfb8d-3c76-4e01-b769-38269a0dc35a",
   "metadata": {},
   "outputs": [],
   "source": [
    "# Function to calculate mean and std\n",
    "def get_mean_and_std(loader):\n",
    "    mean = 0\n",
    "    std = 0\n",
    "    total_images_count = 0\n",
    "    for images, _ in loader:\n",
    "        images_count_in_a_batch = images.size(0)\n",
    "        images = images.view(images_count_in_a_batch, images.size(1), -1)\n",
    "        mean += images.mean(2).sum(0)\n",
    "        std += images.std(2).sum(0)\n",
    "        total_images_count += images_count_in_a_batch\n",
    "    mean /= total_images_count\n",
    "    std /= total_images_count\n",
    "    return mean, std\n",
    "\n",
    "mean, std = get_mean_and_std(initial_loader)"
   ]
  },
  {
   "cell_type": "code",
   "execution_count": 22,
   "id": "78202b51-49f3-4022-bca5-9db41f1787d2",
   "metadata": {},
   "outputs": [],
   "source": [
    "# Updated Transformations with Data Augmentation\n",
    "training_transform = transforms.Compose([\n",
    "    transforms.Resize((224, 224)),\n",
    "    transforms.RandomHorizontalFlip(),\n",
    "    transforms.RandomRotation(15),\n",
    "    transforms.ColorJitter(brightness=0.2, contrast=0.2, saturation=0.2, hue=0.2),\n",
    "    transforms.ToTensor(),\n",
    "    transforms.Normalize(mean, std)\n",
    "])\n",
    "\n",
    "testing_transform = transforms.Compose([\n",
    "    transforms.Resize((224, 224)),\n",
    "    transforms.ToTensor(),\n",
    "    transforms.Normalize(mean, std)\n",
    "])"
   ]
  },
  {
   "cell_type": "code",
   "execution_count": 23,
   "id": "8c11282e-c2b4-4ad4-8f1a-e77e040d9297",
   "metadata": {},
   "outputs": [],
   "source": [
    "# Datasets and Loaders\n",
    "training_dataset = torchvision.datasets.ImageFolder(root=training_dataset_path, transform=training_transform)\n",
    "testing_dataset = torchvision.datasets.ImageFolder(root=test_dataset_path, transform=testing_transform)\n",
    "\n",
    "train_loader = torch.utils.data.DataLoader(dataset=training_dataset, batch_size=32, shuffle=True)\n",
    "test_loader = torch.utils.data.DataLoader(dataset=testing_dataset, batch_size=32, shuffle=False)\n"
   ]
  },
  {
   "cell_type": "code",
   "execution_count": 24,
   "id": "0f4c78e8-6cad-4378-ab27-cbd69814ddf4",
   "metadata": {},
   "outputs": [
    {
     "name": "stdout",
     "output_type": "stream",
     "text": [
      "CUDA available:  False\n"
     ]
    }
   ],
   "source": [
    "# Function to set device\n",
    "def set_device():\n",
    "    return torch.device(\"cuda:0\" if torch.cuda.is_available() else \"cpu\")\n",
    "\n",
    "print(\"CUDA available: \", torch.cuda.is_available())\n"
   ]
  },
  {
   "cell_type": "code",
   "execution_count": 25,
   "id": "dd0497a6-b7a6-4a7f-9dcb-b139fd38dfff",
   "metadata": {},
   "outputs": [],
   "source": [
    "\n",
    "# Training Function\n",
    "def train_nn(model, train_loader, test_loader, criterion, optimizer, scheduler, n_epochs):\n",
    "    device = set_device()\n",
    "    model.to(device)\n",
    "    \n",
    "    for epoch in range(n_epochs):\n",
    "        print(f\"Epoch {epoch + 1}/{n_epochs}\")\n",
    "        model.train()\n",
    "        running_loss = 0.0\n",
    "        running_correct = 0\n",
    "        total = 0\n",
    "        \n",
    "        for data in train_loader:\n",
    "            images, labels = data\n",
    "            images, labels = images.to(device), labels.to(device)\n",
    "            total += labels.size(0)\n",
    "            \n",
    "            optimizer.zero_grad()\n",
    "            outputs = model(images)\n",
    "            _, predicted = torch.max(outputs.data, 1)\n",
    "            loss = criterion(outputs, labels)\n",
    "            loss.backward()\n",
    "            optimizer.step()\n",
    "            \n",
    "            running_loss += loss.item()\n",
    "            running_correct += (predicted == labels).sum().item()\n",
    "        \n",
    "        epoch_loss = running_loss*100 / len(train_loader)\n",
    "        epoch_acc = running_correct *100 / total\n",
    "        print(f\"Training Loss: {epoch_loss:.4f}, Training Accuracy: {epoch_acc:.4f}\")\n",
    "        \n",
    "        test_acc = evaluate_model_on_test_set(model, test_loader)\n",
    "        print(f\"Test Accuracy: {test_acc:.4f}\")\n",
    "        \n",
    "        scheduler.step()\n",
    "    \n",
    "    print(\"Training finished\")\n",
    "    return model\n"
   ]
  },
  {
   "cell_type": "code",
   "execution_count": 26,
   "id": "f0036e23-e1cc-46a1-a7ea-52eecc71591f",
   "metadata": {},
   "outputs": [
    {
     "name": "stdout",
     "output_type": "stream",
     "text": [
      "done\n"
     ]
    }
   ],
   "source": [
    "\n",
    "# Evaluation Function\n",
    "def evaluate_model_on_test_set(model, test_loader):\n",
    "    model.eval()\n",
    "    predicted_correctly_on_epoch = 0\n",
    "    total = 0\n",
    "    device = set_device()\n",
    "    \n",
    "    with torch.no_grad():\n",
    "        for data in test_loader:\n",
    "            images, labels = data\n",
    "            images, labels = images.to(device), labels.to(device)\n",
    "            total += labels.size(0)\n",
    "            outputs = model(images)\n",
    "            _, predicted = torch.max(outputs.data, 1)\n",
    "            predicted_correctly_on_epoch += (predicted == labels).sum().item()\n",
    "    \n",
    "    accuracy = predicted_correctly_on_epoch / total\n",
    "    return accuracy*100\n",
    "\n",
    "# Model, Loss, Optimizer, and Scheduler\n",
    "resnet18_model = torchvision.models.resnet18(pretrained=True)\n",
    "num_features = resnet18_model.fc.in_features\n",
    "number_of_classes = 10  # Adjust this based on your number of classes\n",
    "resnet18_model.fc = nn.Linear(num_features, number_of_classes)\n",
    "\n",
    "device = set_device()\n",
    "resnet18_model = resnet18_model.to(device)\n",
    "loss_fn = nn.CrossEntropyLoss()\n",
    "optimizer = optim.Adam(resnet18_model.parameters(), lr=0.001)\n",
    "scheduler = optim.lr_scheduler.StepLR(optimizer, step_size=7, gamma=0.1)\n",
    "print(\"done\")"
   ]
  },
  {
   "cell_type": "code",
   "execution_count": 27,
   "id": "4dd4f171-46fd-47f3-aafd-50d443c27ef5",
   "metadata": {},
   "outputs": [
    {
     "name": "stdout",
     "output_type": "stream",
     "text": [
      "Epoch 1/20\n",
      "Training Loss: 80.0476, Training Accuracy: 74.3847\n",
      "Test Accuracy: 73.8971\n",
      "Epoch 2/20\n",
      "Training Loss: 45.3732, Training Accuracy: 85.4148\n",
      "Test Accuracy: 73.1618\n",
      "Epoch 3/20\n",
      "Training Loss: 33.9285, Training Accuracy: 88.6964\n",
      "Test Accuracy: 90.0735\n",
      "Epoch 4/20\n",
      "Training Loss: 20.6685, Training Accuracy: 94.2571\n",
      "Test Accuracy: 87.1324\n",
      "Epoch 5/20\n",
      "Training Loss: 25.7016, Training Accuracy: 91.7046\n",
      "Test Accuracy: 80.8824\n",
      "Epoch 6/20\n",
      "Training Loss: 20.8731, Training Accuracy: 94.1659\n",
      "Test Accuracy: 90.8088\n",
      "Epoch 7/20\n",
      "Training Loss: 16.5918, Training Accuracy: 95.0775\n",
      "Test Accuracy: 86.3971\n",
      "Epoch 8/20\n",
      "Training Loss: 8.0925, Training Accuracy: 97.5387\n",
      "Test Accuracy: 95.5882\n",
      "Epoch 9/20\n",
      "Training Loss: 5.8156, Training Accuracy: 98.4503\n",
      "Test Accuracy: 95.9559\n",
      "Epoch 10/20\n",
      "Training Loss: 2.4374, Training Accuracy: 99.4531\n",
      "Test Accuracy: 96.6912\n",
      "Epoch 11/20\n",
      "Training Loss: 2.1992, Training Accuracy: 99.7265\n",
      "Test Accuracy: 96.6912\n",
      "Epoch 12/20\n",
      "Training Loss: 2.5488, Training Accuracy: 99.3619\n",
      "Test Accuracy: 97.4265\n",
      "Epoch 13/20\n",
      "Training Loss: 2.5899, Training Accuracy: 99.6354\n",
      "Test Accuracy: 97.4265\n",
      "Epoch 14/20\n",
      "Training Loss: 2.0304, Training Accuracy: 99.5442\n",
      "Test Accuracy: 97.4265\n",
      "Epoch 15/20\n",
      "Training Loss: 1.2768, Training Accuracy: 99.9088\n",
      "Test Accuracy: 97.7941\n",
      "Epoch 16/20\n",
      "Training Loss: 1.8782, Training Accuracy: 99.7265\n",
      "Test Accuracy: 97.4265\n",
      "Epoch 17/20\n",
      "Training Loss: 2.6566, Training Accuracy: 99.2707\n",
      "Test Accuracy: 97.4265\n",
      "Epoch 18/20\n",
      "Training Loss: 1.6141, Training Accuracy: 99.8177\n",
      "Test Accuracy: 97.4265\n",
      "Epoch 19/20\n",
      "Training Loss: 1.4689, Training Accuracy: 99.7265\n",
      "Test Accuracy: 97.7941\n",
      "Epoch 20/20\n",
      "Training Loss: 1.3960, Training Accuracy: 99.7265\n",
      "Test Accuracy: 97.7941\n",
      "Training finished\n"
     ]
    }
   ],
   "source": [
    "trained_model = train_nn(resnet18_model, train_loader, test_loader, loss_fn, optimizer, scheduler, n_epochs=20)\n"
   ]
  }
 ],
 "metadata": {
  "kernelspec": {
   "display_name": "Python 3 (ipykernel)",
   "language": "python",
   "name": "python3"
  },
  "language_info": {
   "codemirror_mode": {
    "name": "ipython",
    "version": 3
   },
   "file_extension": ".py",
   "mimetype": "text/x-python",
   "name": "python",
   "nbconvert_exporter": "python",
   "pygments_lexer": "ipython3",
   "version": "3.11.7"
  }
 },
 "nbformat": 4,
 "nbformat_minor": 5
}
